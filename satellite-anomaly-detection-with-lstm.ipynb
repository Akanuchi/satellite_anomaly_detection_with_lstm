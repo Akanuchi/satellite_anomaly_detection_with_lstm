{
 "cells": [
  {
   "cell_type": "code",
   "execution_count": 1,
   "id": "95dc8246",
   "metadata": {
    "_cell_guid": "95365b4e-d5d4-4f09-b7d1-88e020373ffe",
    "_uuid": "62f13d86-0364-4983-8129-f8f30258e863",
    "collapsed": false,
    "execution": {
     "iopub.execute_input": "2025-09-20T12:32:54.122806Z",
     "iopub.status.busy": "2025-09-20T12:32:54.122333Z",
     "iopub.status.idle": "2025-09-20T12:32:55.644646Z",
     "shell.execute_reply": "2025-09-20T12:32:55.643711Z"
    },
    "jupyter": {
     "outputs_hidden": false
    },
    "papermill": {
     "duration": 1.527776,
     "end_time": "2025-09-20T12:32:55.645980",
     "exception": false,
     "start_time": "2025-09-20T12:32:54.118204",
     "status": "completed"
    },
    "tags": []
   },
   "outputs": [
    {
     "name": "stdout",
     "output_type": "stream",
     "text": [
      "/kaggle/input/full-satellite-data/satellite_constellation_federated_learning_dataset.csv\n"
     ]
    }
   ],
   "source": [
    "# This Python 3 environment comes with many helpful analytics libraries installed\n",
    "# It is defined by the kaggle/python Docker image: https://github.com/kaggle/docker-python\n",
    "# For example, here's several helpful packages to load\n",
    "\n",
    "import numpy as np # linear algebra\n",
    "import pandas as pd # data processing, CSV file I/O (e.g. pd.read_csv)\n",
    "\n",
    "# Input data files are available in the read-only \"../input/\" directory\n",
    "# For example, running this (by clicking run or pressing Shift+Enter) will list all files under the input directory\n",
    "\n",
    "import os\n",
    "for dirname, _, filenames in os.walk('/kaggle/input'):\n",
    "    for filename in filenames:\n",
    "        print(os.path.join(dirname, filename))\n",
    "\n",
    "# You can write up to 20GB to the current directory (/kaggle/working/) that gets preserved as output when you create a version using \"Save & Run All\" \n",
    "# You can also write temporary files to /kaggle/temp/, but they won't be saved outside of the current session"
   ]
  },
  {
   "cell_type": "code",
   "execution_count": 2,
   "id": "f7f23d90",
   "metadata": {
    "_cell_guid": "c187e063-f4ca-427d-874f-0d273258b44d",
    "_uuid": "160a3361-7158-43b8-90be-36c044c770ea",
    "collapsed": false,
    "execution": {
     "iopub.execute_input": "2025-09-20T12:32:55.653043Z",
     "iopub.status.busy": "2025-09-20T12:32:55.652270Z",
     "iopub.status.idle": "2025-09-20T12:32:56.008368Z",
     "shell.execute_reply": "2025-09-20T12:32:56.007481Z"
    },
    "jupyter": {
     "outputs_hidden": false
    },
    "papermill": {
     "duration": 0.360715,
     "end_time": "2025-09-20T12:32:56.009727",
     "exception": false,
     "start_time": "2025-09-20T12:32:55.649012",
     "status": "completed"
    },
    "tags": []
   },
   "outputs": [
    {
     "name": "stdout",
     "output_type": "stream",
     "text": [
      "<class 'pandas.core.frame.DataFrame'>\n",
      "RangeIndex: 50000 entries, 0 to 49999\n",
      "Data columns (total 20 columns):\n",
      " #   Column                        Non-Null Count  Dtype  \n",
      "---  ------                        --------------  -----  \n",
      " 0   Satellite_ID                  50000 non-null  int64  \n",
      " 1   Latency_ms                    50000 non-null  float64\n",
      " 2   Bandwidth_Mbps                50000 non-null  float64\n",
      " 3   Energy_Consumption_J          50000 non-null  float64\n",
      " 4   Num_Nodes_Constellation       50000 non-null  int64  \n",
      " 5   Intermittent_Connectivity     50000 non-null  int64  \n",
      " 6   Dynamic_Topology_Change       50000 non-null  int64  \n",
      " 7   Training_Time_sec             50000 non-null  float64\n",
      " 8   Training_Accuracy_%           50000 non-null  float64\n",
      " 9   Training_Rounds               50000 non-null  int64  \n",
      " 10  Satellite_Altitude_km         50000 non-null  float64\n",
      " 11  Satellite_Type                50000 non-null  object \n",
      " 12  Signal_Strength_dB            50000 non-null  float64\n",
      " 13  Data_Size_GB                  50000 non-null  float64\n",
      " 14  Satellite_Health              50000 non-null  float64\n",
      " 15  Satellite_Region              50000 non-null  object \n",
      " 16  Model_Convergence_Rate_%      50000 non-null  float64\n",
      " 17  Communication_Success_Rate_%  50000 non-null  float64\n",
      " 18  Data_Sharing_Rate_Mbps        50000 non-null  float64\n",
      " 19  CPU_Usage_%                   50000 non-null  float64\n",
      "dtypes: float64(13), int64(5), object(2)\n",
      "memory usage: 7.6+ MB\n"
     ]
    }
   ],
   "source": [
    "df = pd.read_csv('/kaggle/input/full-satellite-data/satellite_constellation_federated_learning_dataset.csv')\n",
    "df.info()"
   ]
  },
  {
   "cell_type": "code",
   "execution_count": 3,
   "id": "020bc49c",
   "metadata": {
    "_cell_guid": "34e60ba3-d6db-4f54-90af-861e286e01df",
    "_uuid": "6e25350e-e4a1-4989-b22b-42a5f6927989",
    "collapsed": false,
    "execution": {
     "iopub.execute_input": "2025-09-20T12:32:56.017898Z",
     "iopub.status.busy": "2025-09-20T12:32:56.017113Z",
     "iopub.status.idle": "2025-09-20T12:32:56.029844Z",
     "shell.execute_reply": "2025-09-20T12:32:56.028762Z"
    },
    "jupyter": {
     "outputs_hidden": false
    },
    "papermill": {
     "duration": 0.018639,
     "end_time": "2025-09-20T12:32:56.031343",
     "exception": false,
     "start_time": "2025-09-20T12:32:56.012704",
     "status": "completed"
    },
    "tags": []
   },
   "outputs": [
    {
     "name": "stderr",
     "output_type": "stream",
     "text": [
      "/tmp/ipykernel_19/563387202.py:4: FutureWarning: 'S' is deprecated and will be removed in a future version, please use 's' instead.\n",
      "  df['timestamp'] = pd.date_range(start=start_time, periods=N, freq='S')  # freq='S' → 1 second\n"
     ]
    }
   ],
   "source": [
    "N = len(df)  # number of rows\n",
    "start_time = pd.Timestamp('2025-01-01 00:00:00')\n",
    "\n",
    "df['timestamp'] = pd.date_range(start=start_time, periods=N, freq='S')  # freq='S' → 1 second"
   ]
  },
  {
   "cell_type": "code",
   "execution_count": 4,
   "id": "e3c9c2b8",
   "metadata": {
    "_cell_guid": "634b49ec-33e2-4392-bb17-d20d4268a363",
    "_uuid": "41932e07-e9fe-4902-ae66-9f878e2d80f9",
    "collapsed": false,
    "execution": {
     "iopub.execute_input": "2025-09-20T12:32:56.037873Z",
     "iopub.status.busy": "2025-09-20T12:32:56.037658Z",
     "iopub.status.idle": "2025-09-20T12:32:57.164555Z",
     "shell.execute_reply": "2025-09-20T12:32:57.163713Z"
    },
    "jupyter": {
     "outputs_hidden": false
    },
    "papermill": {
     "duration": 1.131812,
     "end_time": "2025-09-20T12:32:57.166072",
     "exception": false,
     "start_time": "2025-09-20T12:32:56.034260",
     "status": "completed"
    },
    "tags": []
   },
   "outputs": [],
   "source": [
    "# Save the dataset with the timestamp column\n",
    "df.to_csv(\"satellite_data_with_timestamp.csv\")"
   ]
  },
  {
   "cell_type": "code",
   "execution_count": 5,
   "id": "cfb1162d",
   "metadata": {
    "_cell_guid": "4f375519-8ea4-431d-ab50-b96937e1a60b",
    "_uuid": "ddc16779-33e1-4375-8d81-60935569f855",
    "collapsed": false,
    "execution": {
     "iopub.execute_input": "2025-09-20T12:32:57.173144Z",
     "iopub.status.busy": "2025-09-20T12:32:57.172888Z",
     "iopub.status.idle": "2025-09-20T12:32:57.387561Z",
     "shell.execute_reply": "2025-09-20T12:32:57.386808Z"
    },
    "jupyter": {
     "outputs_hidden": false
    },
    "papermill": {
     "duration": 0.219561,
     "end_time": "2025-09-20T12:32:57.388942",
     "exception": false,
     "start_time": "2025-09-20T12:32:57.169381",
     "status": "completed"
    },
    "tags": []
   },
   "outputs": [
    {
     "data": {
      "text/html": [
       "<div>\n",
       "<style scoped>\n",
       "    .dataframe tbody tr th:only-of-type {\n",
       "        vertical-align: middle;\n",
       "    }\n",
       "\n",
       "    .dataframe tbody tr th {\n",
       "        vertical-align: top;\n",
       "    }\n",
       "\n",
       "    .dataframe thead th {\n",
       "        text-align: right;\n",
       "    }\n",
       "</style>\n",
       "<table border=\"1\" class=\"dataframe\">\n",
       "  <thead>\n",
       "    <tr style=\"text-align: right;\">\n",
       "      <th></th>\n",
       "      <th>Unnamed: 0</th>\n",
       "      <th>Satellite_ID</th>\n",
       "      <th>Latency_ms</th>\n",
       "      <th>Bandwidth_Mbps</th>\n",
       "      <th>Energy_Consumption_J</th>\n",
       "      <th>Num_Nodes_Constellation</th>\n",
       "      <th>Intermittent_Connectivity</th>\n",
       "      <th>Dynamic_Topology_Change</th>\n",
       "      <th>Training_Time_sec</th>\n",
       "      <th>Training_Accuracy_%</th>\n",
       "      <th>...</th>\n",
       "      <th>Satellite_Type</th>\n",
       "      <th>Signal_Strength_dB</th>\n",
       "      <th>Data_Size_GB</th>\n",
       "      <th>Satellite_Health</th>\n",
       "      <th>Satellite_Region</th>\n",
       "      <th>Model_Convergence_Rate_%</th>\n",
       "      <th>Communication_Success_Rate_%</th>\n",
       "      <th>Data_Sharing_Rate_Mbps</th>\n",
       "      <th>CPU_Usage_%</th>\n",
       "      <th>timestamp</th>\n",
       "    </tr>\n",
       "  </thead>\n",
       "  <tbody>\n",
       "    <tr>\n",
       "      <th>0</th>\n",
       "      <td>0</td>\n",
       "      <td>103</td>\n",
       "      <td>98.908385</td>\n",
       "      <td>23.401082</td>\n",
       "      <td>96.510298</td>\n",
       "      <td>88</td>\n",
       "      <td>1</td>\n",
       "      <td>1</td>\n",
       "      <td>21907.136832</td>\n",
       "      <td>78.068901</td>\n",
       "      <td>...</td>\n",
       "      <td>Science</td>\n",
       "      <td>87.688644</td>\n",
       "      <td>42.368660</td>\n",
       "      <td>88.297596</td>\n",
       "      <td>Polar Orbit</td>\n",
       "      <td>94.723935</td>\n",
       "      <td>97.722509</td>\n",
       "      <td>84.825917</td>\n",
       "      <td>69.768840</td>\n",
       "      <td>2025-01-01 00:00:00</td>\n",
       "    </tr>\n",
       "    <tr>\n",
       "      <th>1</th>\n",
       "      <td>1</td>\n",
       "      <td>436</td>\n",
       "      <td>119.009508</td>\n",
       "      <td>73.711399</td>\n",
       "      <td>94.234733</td>\n",
       "      <td>55</td>\n",
       "      <td>0</td>\n",
       "      <td>1</td>\n",
       "      <td>10484.165803</td>\n",
       "      <td>90.259651</td>\n",
       "      <td>...</td>\n",
       "      <td>Earth Observation</td>\n",
       "      <td>87.519931</td>\n",
       "      <td>14.549679</td>\n",
       "      <td>56.231099</td>\n",
       "      <td>Low Earth Orbit</td>\n",
       "      <td>91.433812</td>\n",
       "      <td>91.209619</td>\n",
       "      <td>62.276699</td>\n",
       "      <td>20.235987</td>\n",
       "      <td>2025-01-01 00:00:01</td>\n",
       "    </tr>\n",
       "    <tr>\n",
       "      <th>2</th>\n",
       "      <td>2</td>\n",
       "      <td>861</td>\n",
       "      <td>242.764729</td>\n",
       "      <td>-8.331131</td>\n",
       "      <td>57.272108</td>\n",
       "      <td>84</td>\n",
       "      <td>1</td>\n",
       "      <td>0</td>\n",
       "      <td>26530.982961</td>\n",
       "      <td>90.734786</td>\n",
       "      <td>...</td>\n",
       "      <td>Earth Observation</td>\n",
       "      <td>75.173693</td>\n",
       "      <td>45.780670</td>\n",
       "      <td>66.960278</td>\n",
       "      <td>Polar Orbit</td>\n",
       "      <td>94.418559</td>\n",
       "      <td>94.531356</td>\n",
       "      <td>62.750616</td>\n",
       "      <td>86.426333</td>\n",
       "      <td>2025-01-01 00:00:02</td>\n",
       "    </tr>\n",
       "    <tr>\n",
       "      <th>3</th>\n",
       "      <td>3</td>\n",
       "      <td>271</td>\n",
       "      <td>240.270491</td>\n",
       "      <td>16.935211</td>\n",
       "      <td>56.706258</td>\n",
       "      <td>7</td>\n",
       "      <td>0</td>\n",
       "      <td>0</td>\n",
       "      <td>4719.987965</td>\n",
       "      <td>82.725070</td>\n",
       "      <td>...</td>\n",
       "      <td>Communication</td>\n",
       "      <td>59.851490</td>\n",
       "      <td>8.350032</td>\n",
       "      <td>98.097768</td>\n",
       "      <td>Geostationary</td>\n",
       "      <td>93.059230</td>\n",
       "      <td>94.356661</td>\n",
       "      <td>56.112938</td>\n",
       "      <td>91.027411</td>\n",
       "      <td>2025-01-01 00:00:03</td>\n",
       "    </tr>\n",
       "    <tr>\n",
       "      <th>4</th>\n",
       "      <td>4</td>\n",
       "      <td>107</td>\n",
       "      <td>155.545793</td>\n",
       "      <td>24.625514</td>\n",
       "      <td>94.071044</td>\n",
       "      <td>82</td>\n",
       "      <td>0</td>\n",
       "      <td>1</td>\n",
       "      <td>14002.936759</td>\n",
       "      <td>81.862861</td>\n",
       "      <td>...</td>\n",
       "      <td>Science</td>\n",
       "      <td>63.195948</td>\n",
       "      <td>40.512776</td>\n",
       "      <td>61.276687</td>\n",
       "      <td>Polar Orbit</td>\n",
       "      <td>94.084595</td>\n",
       "      <td>86.408111</td>\n",
       "      <td>84.128463</td>\n",
       "      <td>89.819895</td>\n",
       "      <td>2025-01-01 00:00:04</td>\n",
       "    </tr>\n",
       "  </tbody>\n",
       "</table>\n",
       "<p>5 rows × 22 columns</p>\n",
       "</div>"
      ],
      "text/plain": [
       "   Unnamed: 0  Satellite_ID  Latency_ms  Bandwidth_Mbps  Energy_Consumption_J  \\\n",
       "0           0           103   98.908385       23.401082             96.510298   \n",
       "1           1           436  119.009508       73.711399             94.234733   \n",
       "2           2           861  242.764729       -8.331131             57.272108   \n",
       "3           3           271  240.270491       16.935211             56.706258   \n",
       "4           4           107  155.545793       24.625514             94.071044   \n",
       "\n",
       "   Num_Nodes_Constellation  Intermittent_Connectivity  \\\n",
       "0                       88                          1   \n",
       "1                       55                          0   \n",
       "2                       84                          1   \n",
       "3                        7                          0   \n",
       "4                       82                          0   \n",
       "\n",
       "   Dynamic_Topology_Change  Training_Time_sec  Training_Accuracy_%  ...  \\\n",
       "0                        1       21907.136832            78.068901  ...   \n",
       "1                        1       10484.165803            90.259651  ...   \n",
       "2                        0       26530.982961            90.734786  ...   \n",
       "3                        0        4719.987965            82.725070  ...   \n",
       "4                        1       14002.936759            81.862861  ...   \n",
       "\n",
       "      Satellite_Type  Signal_Strength_dB Data_Size_GB  Satellite_Health  \\\n",
       "0            Science           87.688644    42.368660         88.297596   \n",
       "1  Earth Observation           87.519931    14.549679         56.231099   \n",
       "2  Earth Observation           75.173693    45.780670         66.960278   \n",
       "3      Communication           59.851490     8.350032         98.097768   \n",
       "4            Science           63.195948    40.512776         61.276687   \n",
       "\n",
       "   Satellite_Region  Model_Convergence_Rate_% Communication_Success_Rate_%  \\\n",
       "0       Polar Orbit                 94.723935                    97.722509   \n",
       "1   Low Earth Orbit                 91.433812                    91.209619   \n",
       "2       Polar Orbit                 94.418559                    94.531356   \n",
       "3     Geostationary                 93.059230                    94.356661   \n",
       "4       Polar Orbit                 94.084595                    86.408111   \n",
       "\n",
       "   Data_Sharing_Rate_Mbps  CPU_Usage_%            timestamp  \n",
       "0               84.825917    69.768840  2025-01-01 00:00:00  \n",
       "1               62.276699    20.235987  2025-01-01 00:00:01  \n",
       "2               62.750616    86.426333  2025-01-01 00:00:02  \n",
       "3               56.112938    91.027411  2025-01-01 00:00:03  \n",
       "4               84.128463    89.819895  2025-01-01 00:00:04  \n",
       "\n",
       "[5 rows x 22 columns]"
      ]
     },
     "execution_count": 5,
     "metadata": {},
     "output_type": "execute_result"
    }
   ],
   "source": [
    "df2 = pd.read_csv(\"satellite_data_with_timestamp.csv\")\n",
    "df2.head(5)"
   ]
  },
  {
   "cell_type": "code",
   "execution_count": 6,
   "id": "f48275d7",
   "metadata": {
    "_cell_guid": "9f66ed13-79a8-48f1-b668-fc25826c6428",
    "_uuid": "4ed54a58-7fe0-4102-a4c8-937df928f635",
    "collapsed": false,
    "execution": {
     "iopub.execute_input": "2025-09-20T12:32:57.396881Z",
     "iopub.status.busy": "2025-09-20T12:32:57.396296Z",
     "iopub.status.idle": "2025-09-20T12:33:03.278219Z",
     "shell.execute_reply": "2025-09-20T12:33:03.277626Z"
    },
    "jupyter": {
     "outputs_hidden": false
    },
    "papermill": {
     "duration": 5.887211,
     "end_time": "2025-09-20T12:33:03.279579",
     "exception": false,
     "start_time": "2025-09-20T12:32:57.392368",
     "status": "completed"
    },
    "tags": []
   },
   "outputs": [],
   "source": [
    "#Import Necessary Libraries\n",
    "import numpy as np\n",
    "import pandas as pd\n",
    "from sklearn.preprocessing import StandardScaler\n",
    "from sklearn.metrics import precision_recall_fscore_support, precision_recall_curve, auc\n",
    "import torch\n",
    "from torch import nn, optim\n",
    "from torch.utils.data import Dataset, DataLoader\n",
    "from typing import List, Tuple\n",
    "import matplotlib.pyplot as plt"
   ]
  },
  {
   "cell_type": "code",
   "execution_count": 7,
   "id": "8e6fd67f",
   "metadata": {
    "_cell_guid": "b55bd935-3103-47ca-85ea-6057ec78049e",
    "_uuid": "af2bfd98-aac6-4dfc-9cf1-44d5f4a8f234",
    "collapsed": false,
    "execution": {
     "iopub.execute_input": "2025-09-20T12:33:03.287143Z",
     "iopub.status.busy": "2025-09-20T12:33:03.286779Z",
     "iopub.status.idle": "2025-09-20T12:33:03.377264Z",
     "shell.execute_reply": "2025-09-20T12:33:03.376655Z"
    },
    "jupyter": {
     "outputs_hidden": false
    },
    "papermill": {
     "duration": 0.095356,
     "end_time": "2025-09-20T12:33:03.378438",
     "exception": false,
     "start_time": "2025-09-20T12:33:03.283082",
     "status": "completed"
    },
    "tags": []
   },
   "outputs": [],
   "source": [
    "#Set Parameter values\n",
    "SEQ_LEN = 60            # window length\n",
    "STEP = 10               # sliding step\n",
    "BATCH_SIZE = 64\n",
    "HIDDEN_SIZE = 64\n",
    "LATENT_SIZE = 16\n",
    "NUM_LAYERS = 2\n",
    "LR = 1e-3\n",
    "EPOCHS = 30\n",
    "DEVICE = torch.device(\"cuda\" if torch.cuda.is_available() else \"cpu\")"
   ]
  },
  {
   "cell_type": "code",
   "execution_count": 8,
   "id": "c38d3a95",
   "metadata": {
    "_cell_guid": "cfde72dc-6fdb-4a3b-8b30-416f60d3b489",
    "_uuid": "3f66a887-6a19-47ef-aa29-bebbaf646ded",
    "collapsed": false,
    "execution": {
     "iopub.execute_input": "2025-09-20T12:33:03.385659Z",
     "iopub.status.busy": "2025-09-20T12:33:03.385427Z",
     "iopub.status.idle": "2025-09-20T12:33:03.389981Z",
     "shell.execute_reply": "2025-09-20T12:33:03.389400Z"
    },
    "jupyter": {
     "outputs_hidden": false
    },
    "papermill": {
     "duration": 0.009243,
     "end_time": "2025-09-20T12:33:03.391007",
     "exception": false,
     "start_time": "2025-09-20T12:33:03.381764",
     "status": "completed"
    },
    "tags": []
   },
   "outputs": [],
   "source": [
    "#Load and Pre-process telemetry data\n",
    "def load_telemetry(path: str, timestamp_col='timestamp', drop_cols: List[str]=None) -> pd.DataFrame:\n",
    "    df = pd.read_csv(path, parse_dates=[timestamp_col])\n",
    "    df = df.sort_values(timestamp_col)\n",
    "    \n",
    "    if drop_cols:\n",
    "        df = df.drop(columns=drop_cols, errors='ignore')\n",
    "\n",
    "    numeric_cols = df.select_dtypes(include=np.number).columns.tolist()\n",
    "    \n",
    "    # Corrected logic to ensure timestamp column is not dropped\n",
    "    if timestamp_col in df.columns and timestamp_col not in numeric_cols:\n",
    "        numeric_cols.append(timestamp_col)\n",
    "    \n",
    "    df = df[numeric_cols]\n",
    "    df = df.set_index(timestamp_col)\n",
    "    \n",
    "    return df"
   ]
  },
  {
   "cell_type": "code",
   "execution_count": 9,
   "id": "31644b25",
   "metadata": {
    "_cell_guid": "0f8117d1-8fdf-4909-9d73-050ab8c03fba",
    "_uuid": "fb6f47a1-3a60-4cab-bd50-ed746ec7b096",
    "collapsed": false,
    "execution": {
     "iopub.execute_input": "2025-09-20T12:33:03.397741Z",
     "iopub.status.busy": "2025-09-20T12:33:03.397534Z",
     "iopub.status.idle": "2025-09-20T12:33:03.401242Z",
     "shell.execute_reply": "2025-09-20T12:33:03.400743Z"
    },
    "jupyter": {
     "outputs_hidden": false
    },
    "papermill": {
     "duration": 0.008122,
     "end_time": "2025-09-20T12:33:03.402210",
     "exception": false,
     "start_time": "2025-09-20T12:33:03.394088",
     "status": "completed"
    },
    "tags": []
   },
   "outputs": [],
   "source": [
    "def impute_and_resample(df: pd.DataFrame, freq='1S', method='linear') -> pd.DataFrame:\n",
    "    # Resample to fixed frequency and fill missing via interpolation\n",
    "    df = df.resample(freq).mean()\n",
    "    df = df.interpolate(method=method).ffill().bfill()\n",
    "    return df"
   ]
  },
  {
   "cell_type": "code",
   "execution_count": 10,
   "id": "24c21fdc",
   "metadata": {
    "_cell_guid": "d984755e-157f-4675-b9c9-ac5f8add216d",
    "_uuid": "217e0193-602c-4de2-bd73-e67d4f18b5b7",
    "collapsed": false,
    "execution": {
     "iopub.execute_input": "2025-09-20T12:33:03.409343Z",
     "iopub.status.busy": "2025-09-20T12:33:03.408728Z",
     "iopub.status.idle": "2025-09-20T12:33:03.412709Z",
     "shell.execute_reply": "2025-09-20T12:33:03.412125Z"
    },
    "jupyter": {
     "outputs_hidden": false
    },
    "papermill": {
     "duration": 0.008557,
     "end_time": "2025-09-20T12:33:03.413721",
     "exception": false,
     "start_time": "2025-09-20T12:33:03.405164",
     "status": "completed"
    },
    "tags": []
   },
   "outputs": [],
   "source": [
    "\n",
    "def create_windows(data: np.ndarray, seq_len: int, step: int) -> np.ndarray:\n",
    "    n, d = data.shape\n",
    "    windows = []\n",
    "    for start in range(0, n - seq_len + 1, step):\n",
    "        windows.append(data[start:start+seq_len])\n",
    "    return np.stack(windows)  # shape (num_windows, seq_len, d)"
   ]
  },
  {
   "cell_type": "code",
   "execution_count": 11,
   "id": "e760d5cf",
   "metadata": {
    "_cell_guid": "0b06682c-8cd3-4fe3-945f-1d232cb54c5f",
    "_uuid": "c3beed82-a7db-4c5f-a9fa-d0b3bf3071c7",
    "collapsed": false,
    "execution": {
     "iopub.execute_input": "2025-09-20T12:33:03.421237Z",
     "iopub.status.busy": "2025-09-20T12:33:03.421039Z",
     "iopub.status.idle": "2025-09-20T12:33:03.424617Z",
     "shell.execute_reply": "2025-09-20T12:33:03.424107Z"
    },
    "jupyter": {
     "outputs_hidden": false
    },
    "papermill": {
     "duration": 0.008201,
     "end_time": "2025-09-20T12:33:03.425674",
     "exception": false,
     "start_time": "2025-09-20T12:33:03.417473",
     "status": "completed"
    },
    "tags": []
   },
   "outputs": [],
   "source": [
    "#Sequence Dataset\n",
    "class SequenceDataset(Dataset):\n",
    "    def __init__(self, windows: np.ndarray):\n",
    "        self.windows = windows.astype(np.float32)\n",
    "\n",
    "    def __len__(self):\n",
    "        return len(self.windows)\n",
    "\n",
    "    def __getitem__(self, idx):\n",
    "        return self.windows[idx]"
   ]
  },
  {
   "cell_type": "code",
   "execution_count": 12,
   "id": "3fe3585c",
   "metadata": {
    "_cell_guid": "019c75be-b8d2-4adc-8961-5c5a38e56e93",
    "_uuid": "5bb7bc93-a375-4387-ab94-53237b947d91",
    "collapsed": false,
    "execution": {
     "iopub.execute_input": "2025-09-20T12:33:03.432675Z",
     "iopub.status.busy": "2025-09-20T12:33:03.432467Z",
     "iopub.status.idle": "2025-09-20T12:33:03.437957Z",
     "shell.execute_reply": "2025-09-20T12:33:03.437459Z"
    },
    "jupyter": {
     "outputs_hidden": false
    },
    "papermill": {
     "duration": 0.010221,
     "end_time": "2025-09-20T12:33:03.438941",
     "exception": false,
     "start_time": "2025-09-20T12:33:03.428720",
     "status": "completed"
    },
    "tags": []
   },
   "outputs": [],
   "source": [
    "#Pytorch LSTM Autoencoder\n",
    "class LSTMAutoencoder(nn.Module):\n",
    "    def __init__(self, input_size, hidden_size=64, latent_size=16, num_layers=2):\n",
    "        super().__init__()\n",
    "        self.encoder = nn.LSTM(input_size, hidden_size, num_layers, batch_first=True)\n",
    "        self.enc_fc = nn.Linear(hidden_size, latent_size)\n",
    "\n",
    "        self.dec_fc = nn.Linear(latent_size, hidden_size)\n",
    "        \n",
    "        # The decoder now takes a single input of hidden_size to generate the sequence\n",
    "        self.decoder_rnn = nn.LSTM(hidden_size, hidden_size, num_layers, batch_first=True)\n",
    "        self.out = nn.Linear(hidden_size, input_size)\n",
    "\n",
    "    def forward(self, x):\n",
    "        # x: (B, T, D) -> Batch, Time, Dimensions\n",
    "        B, T, D = x.size()\n",
    "        \n",
    "        # Encoder\n",
    "        # The encoder takes the full sequence and produces a final hidden state.\n",
    "        # h_n and c_n are (num_layers, B, hidden_size)\n",
    "        _, (h_n, c_n) = self.encoder(x)\n",
    "        \n",
    "        # Latent space projection from the last layer's hidden state\n",
    "        # This will be (B, hidden_size).\n",
    "        latent_input = h_n[-1, :, :]\n",
    "        latent = self.enc_fc(latent_input)  # (B, latent_size)\n",
    "\n",
    "        # Decoder\n",
    "        # The decoder takes the latent representation and projects it back to hidden_size.\n",
    "        # This will serve as the input for each timestep of the decoder.\n",
    "        decoder_input_tensor = self.dec_fc(latent).unsqueeze(1).repeat(1, T, 1)\n",
    "\n",
    "        # The decoder_rnn's input is now (B, T, hidden_size), and it produces an output\n",
    "        # of the same shape.\n",
    "        decoder_output, _ = self.decoder_rnn(decoder_input_tensor)\n",
    "        \n",
    "        # The final reconstruction is generated by a linear layer that projects\n",
    "        # from hidden_size to the original input_size (D).\n",
    "        recon = self.out(decoder_output)  # recon: (B, T, D)\n",
    "\n",
    "        return recon"
   ]
  },
  {
   "cell_type": "code",
   "execution_count": 13,
   "id": "b420beaa",
   "metadata": {
    "_cell_guid": "4e50fb95-8176-4205-b91f-c0def1d21bce",
    "_uuid": "4373bbea-6b5e-4cd9-ad10-844af33056b1",
    "collapsed": false,
    "execution": {
     "iopub.execute_input": "2025-09-20T12:33:03.445930Z",
     "iopub.status.busy": "2025-09-20T12:33:03.445735Z",
     "iopub.status.idle": "2025-09-20T12:33:03.451786Z",
     "shell.execute_reply": "2025-09-20T12:33:03.451261Z"
    },
    "jupyter": {
     "outputs_hidden": false
    },
    "papermill": {
     "duration": 0.010632,
     "end_time": "2025-09-20T12:33:03.452767",
     "exception": false,
     "start_time": "2025-09-20T12:33:03.442135",
     "status": "completed"
    },
    "tags": []
   },
   "outputs": [],
   "source": [
    "#Training and Validation\n",
    "def train_model(model, train_loader, val_loader, epochs=20, lr=1e-3, device=DEVICE):\n",
    "    model.to(device)\n",
    "    opt = optim.Adam(model.parameters(), lr=lr)\n",
    "    criterion = nn.MSELoss()\n",
    "    best_val = float('inf')\n",
    "    for epoch in range(1, epochs+1):\n",
    "        model.train()\n",
    "        train_loss = 0.0\n",
    "        for batch in train_loader:\n",
    "            batch = batch.to(device)\n",
    "            opt.zero_grad()\n",
    "            recon = model(batch)\n",
    "            loss = criterion(recon, batch)\n",
    "            loss.backward()\n",
    "            opt.step()\n",
    "            train_loss += loss.item() * batch.size(0)\n",
    "        train_loss /= len(train_loader.dataset)\n",
    "\n",
    "        # validation\n",
    "        model.eval()\n",
    "        val_loss = 0.0\n",
    "        with torch.no_grad():\n",
    "            for batch in val_loader:\n",
    "                batch = batch.to(device)\n",
    "                recon = model(batch)\n",
    "                loss = criterion(recon, batch)\n",
    "                val_loss += loss.item() * batch.size(0)\n",
    "        val_loss /= len(val_loader.dataset)\n",
    "\n",
    "        if val_loss < best_val:\n",
    "            best_val = val_loss\n",
    "            torch.save(model.state_dict(), \"best_lstm_autoencoder.pth\")\n",
    "\n",
    "        print(f\"Epoch {epoch}/{epochs} train_loss={train_loss:.6f} val_loss={val_loss:.6f}\")\n",
    "    # load best\n",
    "    model.load_state_dict(torch.load(\"best_lstm_autoencoder.pth\"))\n",
    "    return model"
   ]
  },
  {
   "cell_type": "code",
   "execution_count": 14,
   "id": "b8d69cf9",
   "metadata": {
    "_cell_guid": "95f67bb7-78e6-444b-8d04-27bf4683b911",
    "_uuid": "fe9dd500-d906-4db7-b656-5456dd168a80",
    "collapsed": false,
    "execution": {
     "iopub.execute_input": "2025-09-20T12:33:03.460135Z",
     "iopub.status.busy": "2025-09-20T12:33:03.459489Z",
     "iopub.status.idle": "2025-09-20T12:33:03.464342Z",
     "shell.execute_reply": "2025-09-20T12:33:03.463810Z"
    },
    "jupyter": {
     "outputs_hidden": false
    },
    "papermill": {
     "duration": 0.00952,
     "end_time": "2025-09-20T12:33:03.465403",
     "exception": false,
     "start_time": "2025-09-20T12:33:03.455883",
     "status": "completed"
    },
    "tags": []
   },
   "outputs": [],
   "source": [
    "#Scoring and Thresholding\n",
    "def compute_reconstruction_errors(model, loader, device=DEVICE) -> np.ndarray:\n",
    "    model.eval()\n",
    "    errors = []\n",
    "    with torch.no_grad():\n",
    "        for batch in loader:\n",
    "            batch = batch.to(device)\n",
    "            recon = model(batch)\n",
    "            # per-window MSE\n",
    "            mse = ((recon - batch) ** 2).mean(dim=(1,2))  # (B,)\n",
    "            errors.append(mse.cpu().numpy())\n",
    "    return np.concatenate(errors)\n",
    "\n",
    "def choose_threshold(errors_normal: np.ndarray, method='percentile', p=99.5) -> float:\n",
    "    if method == 'percentile':\n",
    "        return np.percentile(errors_normal, p)\n",
    "    else:\n",
    "        # fallback: mean + k*std\n",
    "        return errors_normal.mean() + 3 * errors_normal.std()"
   ]
  },
  {
   "cell_type": "code",
   "execution_count": 15,
   "id": "460918ff",
   "metadata": {
    "_cell_guid": "11b7461c-8f41-4a6a-8f2c-340e2fb51114",
    "_uuid": "41bec59b-9d85-44b4-9baa-08889418ea98",
    "collapsed": false,
    "execution": {
     "iopub.execute_input": "2025-09-20T12:33:03.472675Z",
     "iopub.status.busy": "2025-09-20T12:33:03.472415Z",
     "iopub.status.idle": "2025-09-20T12:33:17.500513Z",
     "shell.execute_reply": "2025-09-20T12:33:17.499830Z"
    },
    "jupyter": {
     "outputs_hidden": false
    },
    "papermill": {
     "duration": 14.033156,
     "end_time": "2025-09-20T12:33:17.501744",
     "exception": false,
     "start_time": "2025-09-20T12:33:03.468588",
     "status": "completed"
    },
    "tags": []
   },
   "outputs": [
    {
     "name": "stderr",
     "output_type": "stream",
     "text": [
      "/tmp/ipykernel_19/762785844.py:3: FutureWarning: 'S' is deprecated and will be removed in a future version, please use 's' instead.\n",
      "  df = df.resample(freq).mean()\n"
     ]
    },
    {
     "name": "stdout",
     "output_type": "stream",
     "text": [
      "Epoch 1/30 train_loss=0.976361 val_loss=1.011032\n",
      "Epoch 2/30 train_loss=0.948969 val_loss=0.964954\n",
      "Epoch 3/30 train_loss=0.947976 val_loss=0.966718\n",
      "Epoch 4/30 train_loss=0.947764 val_loss=0.966875\n",
      "Epoch 5/30 train_loss=0.947631 val_loss=0.964204\n",
      "Epoch 6/30 train_loss=0.947548 val_loss=0.963166\n",
      "Epoch 7/30 train_loss=0.947496 val_loss=0.963734\n",
      "Epoch 8/30 train_loss=0.947412 val_loss=0.962303\n",
      "Epoch 9/30 train_loss=0.947395 val_loss=0.963912\n",
      "Epoch 10/30 train_loss=0.947401 val_loss=0.962441\n",
      "Epoch 11/30 train_loss=0.947341 val_loss=0.963650\n",
      "Epoch 12/30 train_loss=0.947307 val_loss=0.962173\n",
      "Epoch 13/30 train_loss=0.947274 val_loss=0.961161\n",
      "Epoch 14/30 train_loss=0.947160 val_loss=0.958863\n",
      "Epoch 15/30 train_loss=0.946766 val_loss=0.957393\n",
      "Epoch 16/30 train_loss=0.946290 val_loss=0.954504\n",
      "Epoch 17/30 train_loss=0.945968 val_loss=0.954114\n",
      "Epoch 18/30 train_loss=0.945638 val_loss=0.952202\n",
      "Epoch 19/30 train_loss=0.945291 val_loss=0.949798\n",
      "Epoch 20/30 train_loss=0.945088 val_loss=0.950532\n",
      "Epoch 21/30 train_loss=0.944662 val_loss=0.950430\n",
      "Epoch 22/30 train_loss=0.944344 val_loss=0.949120\n",
      "Epoch 23/30 train_loss=0.944071 val_loss=0.948327\n",
      "Epoch 24/30 train_loss=0.943866 val_loss=0.948500\n",
      "Epoch 25/30 train_loss=0.943717 val_loss=0.948322\n",
      "Epoch 26/30 train_loss=0.943438 val_loss=0.949248\n",
      "Epoch 27/30 train_loss=0.943249 val_loss=0.948669\n",
      "Epoch 28/30 train_loss=0.943001 val_loss=0.948881\n",
      "Epoch 29/30 train_loss=0.942598 val_loss=0.949231\n",
      "Epoch 30/30 train_loss=0.942178 val_loss=0.949327\n",
      "Chosen threshold: 1.0093663668632507\n"
     ]
    },
    {
     "data": {
      "image/png": "[encoded data removed]",
      "text/plain": [
       "<Figure size 640x480 with 1 Axes>"
      ]
     },
     "metadata": {},
     "output_type": "display_data"
    }
   ],
   "source": [
    "if __name__ == \"__main__\":\n",
    "    # 1. load\n",
    "    # Ensure the path and column names are correct\n",
    "    df = load_telemetry(\"satellite_data_with_timestamp.csv\", timestamp_col='timestamp', drop_cols=['sat_id'])\n",
    "    \n",
    "    df = impute_and_resample(df, freq='1S')\n",
    "    \n",
    "    # Correctly define features AFTER resampling and dropping non-numeric columns\n",
    "    features = df.columns.tolist()\n",
    "\n",
    "    # 2. split: assume we have a period of normal operation for training\n",
    "    n = len(df)\n",
    "    train_df = df.iloc[: int(0.6 * n)]\n",
    "    val_df = df.iloc[int(0.6 * n): int(0.8 * n)]\n",
    "    test_df = df.iloc[int(0.8 * n):]\n",
    "\n",
    "    # 3. scale based on train only\n",
    "    scaler = StandardScaler()\n",
    "    scaler.fit(train_df.values)\n",
    "    train_scaled = scaler.transform(train_df.values)\n",
    "    val_scaled = scaler.transform(val_df.values)\n",
    "    test_scaled = scaler.transform(test_df.values)\n",
    "    \n",
    "    # 4. window\n",
    "    train_w = create_windows(train_scaled, SEQ_LEN, STEP)\n",
    "    val_w   = create_windows(val_scaled, SEQ_LEN, STEP)\n",
    "    test_w  = create_windows(test_scaled, SEQ_LEN, STEP)\n",
    "\n",
    "    train_loader = DataLoader(SequenceDataset(train_w), batch_size=BATCH_SIZE, shuffle=True)\n",
    "    val_loader   = DataLoader(SequenceDataset(val_w), batch_size=BATCH_SIZE, shuffle=False)\n",
    "    test_loader  = DataLoader(SequenceDataset(test_w), batch_size=BATCH_SIZE, shuffle=False)\n",
    "\n",
    "    # 5. build model\n",
    "    model = LSTMAutoencoder(input_size=len(features), hidden_size=HIDDEN_SIZE, latent_size=LATENT_SIZE, num_layers=NUM_LAYERS)\n",
    "    model = train_model(model, train_loader, val_loader, epochs=EPOCHS, lr=LR)\n",
    "\n",
    "    # 6. compute reconstruction error on validation normal windows to set threshold\n",
    "    val_errors = compute_reconstruction_errors(model, val_loader)\n",
    "    threshold = choose_threshold(val_errors, method='percentile', p=99.5)\n",
    "    print(\"Chosen threshold:\", threshold)\n",
    "\n",
    "    # 7. score test set\n",
    "    test_errors = compute_reconstruction_errors(model, test_loader)\n",
    "\n",
    "    # OPTIONAL: if you have test labels for each window (0 normal, 1 anomaly), evaluate\n",
    "    # labels_per_window = ... (align labels to windows)\n",
    "    # evaluate_scores(test_errors, labels_per_window)\n",
    "\n",
    "    # 8. plot histogram of errors\n",
    "    plt.figure()\n",
    "    plt.hist(val_errors, bins=200, alpha=0.7, label='val (normal)')\n",
    "    plt.hist(test_errors, bins=200, alpha=0.7, label='test')\n",
    "    plt.axvline(threshold, color='r', linestyle='--', label='threshold')\n",
    "    plt.legend()\n",
    "    plt.xlabel(\"Reconstruction MSE\")\n",
    "    plt.show()\n",
    "\n",
    "    # 9. for deployment: compute score per incoming sliding window and raise alert if score > threshold"
   ]
  }
 ],
 "metadata": {
  "kaggle": {
   "accelerator": "nvidiaTeslaT4",
   "dataSources": [
    {
     "datasetId": 8277549,
     "sourceId": 13070259,
     "sourceType": "datasetVersion"
    }
   ],
   "dockerImageVersionId": 31089,
   "isGpuEnabled": true,
   "isInternetEnabled": true,
   "language": "python",
   "sourceType": "notebook"
  },
  "kernelspec": {
   "display_name": "Python 3",
   "language": "python",
   "name": "python3"
  },
  "language_info": {
   "codemirror_mode": {
    "name": "ipython",
    "version": 3
   },
   "file_extension": ".py",
   "mimetype": "text/x-python",
   "name": "python",
   "nbconvert_exporter": "python",
   "pygments_lexer": "ipython3",
   "version": "3.11.13"
  },
  "papermill": {
   "default_parameters": {},
   "duration": 30.406327,
   "end_time": "2025-09-20T12:33:20.171439",
   "environment_variables": {},
   "exception": null,
   "input_path": "__notebook__.ipynb",
   "output_path": "__notebook__.ipynb",
   "parameters": {},
   "start_time": "2025-09-20T12:32:49.765112",
   "version": "2.6.0"
  }
 },
 "nbformat": 4,
 "nbformat_minor": 5
}
